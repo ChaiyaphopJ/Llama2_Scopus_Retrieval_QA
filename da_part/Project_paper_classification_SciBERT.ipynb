{
  "nbformat": 4,
  "nbformat_minor": 0,
  "metadata": {
    "colab": {
      "provenance": [],
      "gpuType": "T4"
    },
    "kernelspec": {
      "name": "python3",
      "display_name": "Python 3"
    },
    "language_info": {
      "name": "python"
    },
    "accelerator": "GPU"
  },
  "cells": [
    {
      "cell_type": "markdown",
      "source": [
        "#Step 1: Install And Import Python Libraries"
      ],
      "metadata": {
        "id": "z0l2-vYm4bF5"
      }
    },
    {
      "cell_type": "code",
      "source": [
        "# Install libraries\n",
        "!pip install -q transformers[torch] datasets evaluate\n",
        "import os\n",
        "os.kill(os.getpid(), 9)"
      ],
      "metadata": {
        "id": "s-nmAlQ9nNjG",
        "colab": {
          "base_uri": "https://localhost:8080/"
        },
        "outputId": "08c923bd-fb2b-4655-a3a3-77cbac6fd068"
      },
      "execution_count": null,
      "outputs": [
        {
          "output_type": "stream",
          "name": "stdout",
          "text": [
            "\u001b[2K     \u001b[90m━━━━━━━━━━━━━━━━━━━━━━━━━━━━━━━━━━━━━━━━\u001b[0m \u001b[32m521.2/521.2 kB\u001b[0m \u001b[31m7.3 MB/s\u001b[0m eta \u001b[36m0:00:00\u001b[0m\n",
            "\u001b[2K     \u001b[90m━━━━━━━━━━━━━━━━━━━━━━━━━━━━━━━━━━━━━━━━\u001b[0m \u001b[32m84.1/84.1 kB\u001b[0m \u001b[31m10.8 MB/s\u001b[0m eta \u001b[36m0:00:00\u001b[0m\n",
            "\u001b[2K     \u001b[90m━━━━━━━━━━━━━━━━━━━━━━━━━━━━━━━━━━━━━━━━\u001b[0m \u001b[32m265.7/265.7 kB\u001b[0m \u001b[31m24.9 MB/s\u001b[0m eta \u001b[36m0:00:00\u001b[0m\n",
            "\u001b[2K     \u001b[90m━━━━━━━━━━━━━━━━━━━━━━━━━━━━━━━━━━━━━━━━\u001b[0m \u001b[32m115.3/115.3 kB\u001b[0m \u001b[31m13.8 MB/s\u001b[0m eta \u001b[36m0:00:00\u001b[0m\n",
            "\u001b[2K     \u001b[90m━━━━━━━━━━━━━━━━━━━━━━━━━━━━━━━━━━━━━━━━\u001b[0m \u001b[32m134.8/134.8 kB\u001b[0m \u001b[31m16.2 MB/s\u001b[0m eta \u001b[36m0:00:00\u001b[0m\n",
            "\u001b[?25h"
          ]
        }
      ]
    },
    {
      "cell_type": "code",
      "source": [
        "# Data processing\n",
        "import pandas as pd\n",
        "import numpy as np\n",
        "# Visualize tools\n",
        "import matplotlib.pyplot as plt\n",
        "import seaborn as sns\n",
        "# Modeling\n",
        "import tensorflow as tf\n",
        "from transformers import AutoTokenizer, AutoModelForSequenceClassification, TrainingArguments, Trainer, EarlyStoppingCallback, TextClassificationPipeline, AutoModel\n",
        "# Hugging Face Dataset\n",
        "from datasets import Dataset\n",
        "# Model performance evaluation\n",
        "import evaluate"
      ],
      "metadata": {
        "id": "PqwSKH-JmlL3"
      },
      "execution_count": null,
      "outputs": []
    },
    {
      "cell_type": "code",
      "source": [
        "from transformers import AutoModel"
      ],
      "metadata": {
        "id": "UaXOc6ycd0Kf"
      },
      "execution_count": null,
      "outputs": []
    },
    {
      "cell_type": "markdown",
      "source": [
        "#Step 2: Download And Read Data"
      ],
      "metadata": {
        "id": "JyagcW7h4guh"
      }
    },
    {
      "cell_type": "code",
      "source": [
        "#"
      ],
      "metadata": {
        "id": "zodYQKsNFXe8"
      },
      "execution_count": null,
      "outputs": []
    },
    {
      "cell_type": "markdown",
      "source": [
        "##Read csv file"
      ],
      "metadata": {
        "id": "xDaee2TifvKc"
      }
    },
    {
      "cell_type": "code",
      "source": [
        "train_df = pd.read_csv('/content/cleaned_data.csv', sep='|', engine='python', encoding='utf-8', on_bad_lines='skip')\n",
        "train_df.reset_index(inplace=True)\n",
        "train_df"
      ],
      "metadata": {
        "colab": {
          "base_uri": "https://localhost:8080/",
          "height": 982
        },
        "id": "HODVoY_1f4tM",
        "outputId": "800ca7c5-5d95-40da-9b3b-d5d2c8050786"
      },
      "execution_count": null,
      "outputs": [
        {
          "output_type": "execute_result",
          "data": {
            "text/plain": [
              "      index                                            authors  \\\n",
              "0         0  Rujitharanawong C., Tuchinda P., Chularojanamo...   \n",
              "1         1  Muangnapoh C., Tamboon E., Supha N., Toyting J...   \n",
              "2         2  Wannasrichan W., Htoo H.H., Suwansaeng R., Pog...   \n",
              "3         3            Treepongkaruna S., Kyaw K., Jiraporn P.   \n",
              "4         4  Buatong J., Dvorak V., Thepparat A., Thongkhao...   \n",
              "...     ...                                                ...   \n",
              "2032   2032  Amano M., Lohwacharin J., Dubechot A., Takizaw...   \n",
              "2033   2033  Sirunyan A.M., Tumasyan A., Adam W., Asilar E....   \n",
              "2034   2034  Hemra K., Yamaguchi S., Kobayashi T., Aungkava...   \n",
              "2035   2035  Greeviroj P., Kitrungphaiboon T., Katavetin P....   \n",
              "2036   2036          Pansa-Ngat P., Jedsukontorn T., Hunsom M.   \n",
              "\n",
              "                                                  title  \\\n",
              "0     Direct immunofluorescence staining patterns co...   \n",
              "1     Multilocus Sequence Typing and Virulence Poten...   \n",
              "2     Phage-resistant Pseudomonas aeruginosa against...   \n",
              "3     Shareholder litigation rights and ESG controve...   \n",
              "4     Phlebotomine Sand Flies in Southern Thailand: ...   \n",
              "...                                                 ...   \n",
              "2032  Performance of integrated ferrate–polyaluminum...   \n",
              "2033  Search for natural supersymmetry in events wit...   \n",
              "2034  Compressive strength and setting time modifica...   \n",
              "2035  Cinacalcet for treatment of chronic kidney dis...   \n",
              "2036  Optimal hydrogen production coupled with pollu...   \n",
              "\n",
              "                                              abstracts  \\\n",
              "0     © 2021 British Association of Dermatologists.T...   \n",
              "1     Copyright © 2022 Muangnapoh et al.Vibrio parah...   \n",
              "2     Copyright © 2022 Wannasrichan, Htoo, Suwansaen...   \n",
              "3     © 2022 The AuthorsLeveraging as a quasi-natura...   \n",
              "4     © 2022 by the authors. Licensee MDPI, Basel, S...   \n",
              "...                                                 ...   \n",
              "2032  © 2018 Elsevier LtdFerrate-based technologies ...   \n",
              "2033  © 2018, The Author(s).Results are presented fr...   \n",
              "2034  © 2018 Trans Tech Publications, Switzerland.Cl...   \n",
              "2035  © 2018 S. Karger AG, Basel.Background: Cinacal...   \n",
              "2036  © 2018 by the authors. Licensee MDPI, Basel, S...   \n",
              "\n",
              "                                            description  \\\n",
              "0     This retrospective study performed to investig...   \n",
              "1     Vibrio parahaemolyticus is a Gram-negative, fo...   \n",
              "2     Pseudomonas aeruginosa, a major cause of nosoc...   \n",
              "3     Leveraging as a quasi-natural experiment the s...   \n",
              "4     An entomological survey at rural and cavernico...   \n",
              "...                                                 ...   \n",
              "2032  Ferrate-based technologies can play versatile ...   \n",
              "2033  Results are presented from a search for natura...   \n",
              "2034  Class C fly ash is widely used as a geopolymer...   \n",
              "2035  Background: Cinacalcet could decrease serum ca...   \n",
              "2036  This work aimed to produce hydrogen (H2) simul...   \n",
              "\n",
              "                                             doi  \\\n",
              "0                          doi:10.1111/ced.14879   \n",
              "1                  doi:10.1128/spectrum.00886-22   \n",
              "2                 doi:10.3389/fmicb.2022.1004733   \n",
              "3                 doi:10.1016/j.irfa.2022.102396   \n",
              "4                    doi:10.3390/insects13020197   \n",
              "...                                          ...   \n",
              "2032           doi:10.1016/j.jenvman.2018.02.022   \n",
              "2033                 doi:10.1007/JHEP03(2018)167   \n",
              "2034  doi:10.4028/www.scientific.net/KEM.766.157   \n",
              "2035                       doi:10.1159/000487546   \n",
              "2036                     doi:10.3390/nano8020096   \n",
              "\n",
              "                                            affiliation       city  \\\n",
              "0                                      Siriraj Hospital    Bangkok   \n",
              "1              Mahidol University, Faculty of Dentistry    Bangkok   \n",
              "2                         School of Biological Sciences  San Diego   \n",
              "3                                  NTNU Business School  Trondheim   \n",
              "4                              Chulalongkorn University    Bangkok   \n",
              "...                                                 ...        ...   \n",
              "2032                           Chulalongkorn University    Bangkok   \n",
              "2033  Rheinisch-Westfälische Technische Hochschule A...     Aachen   \n",
              "2034                           Chulalongkorn University    Bangkok   \n",
              "2035                           Chulalongkorn University    Bangkok   \n",
              "2036                           Chulalongkorn University    Bangkok   \n",
              "\n",
              "            country   latitude   longitude  \n",
              "0          Thailand  13.824580  100.622446  \n",
              "1          Thailand  13.824580  100.622446  \n",
              "2     United States  32.717420 -117.162773  \n",
              "3            Norway  63.430447   10.395212  \n",
              "4          Thailand  13.824580  100.622446  \n",
              "...             ...        ...         ...  \n",
              "2032       Thailand  13.824580  100.622446  \n",
              "2033        Germany  50.776351    6.083862  \n",
              "2034       Thailand  13.824580  100.622446  \n",
              "2035       Thailand  13.824580  100.622446  \n",
              "2036       Thailand  13.824580  100.622446  \n",
              "\n",
              "[2037 rows x 11 columns]"
            ],
            "text/html": [
              "\n",
              "  <div id=\"df-0e176533-e291-4e1e-9525-2464b8f5e67e\" class=\"colab-df-container\">\n",
              "    <div>\n",
              "<style scoped>\n",
              "    .dataframe tbody tr th:only-of-type {\n",
              "        vertical-align: middle;\n",
              "    }\n",
              "\n",
              "    .dataframe tbody tr th {\n",
              "        vertical-align: top;\n",
              "    }\n",
              "\n",
              "    .dataframe thead th {\n",
              "        text-align: right;\n",
              "    }\n",
              "</style>\n",
              "<table border=\"1\" class=\"dataframe\">\n",
              "  <thead>\n",
              "    <tr style=\"text-align: right;\">\n",
              "      <th></th>\n",
              "      <th>index</th>\n",
              "      <th>authors</th>\n",
              "      <th>title</th>\n",
              "      <th>abstracts</th>\n",
              "      <th>description</th>\n",
              "      <th>doi</th>\n",
              "      <th>affiliation</th>\n",
              "      <th>city</th>\n",
              "      <th>country</th>\n",
              "      <th>latitude</th>\n",
              "      <th>longitude</th>\n",
              "    </tr>\n",
              "  </thead>\n",
              "  <tbody>\n",
              "    <tr>\n",
              "      <th>0</th>\n",
              "      <td>0</td>\n",
              "      <td>Rujitharanawong C., Tuchinda P., Chularojanamo...</td>\n",
              "      <td>Direct immunofluorescence staining patterns co...</td>\n",
              "      <td>© 2021 British Association of Dermatologists.T...</td>\n",
              "      <td>This retrospective study performed to investig...</td>\n",
              "      <td>doi:10.1111/ced.14879</td>\n",
              "      <td>Siriraj Hospital</td>\n",
              "      <td>Bangkok</td>\n",
              "      <td>Thailand</td>\n",
              "      <td>13.824580</td>\n",
              "      <td>100.622446</td>\n",
              "    </tr>\n",
              "    <tr>\n",
              "      <th>1</th>\n",
              "      <td>1</td>\n",
              "      <td>Muangnapoh C., Tamboon E., Supha N., Toyting J...</td>\n",
              "      <td>Multilocus Sequence Typing and Virulence Poten...</td>\n",
              "      <td>Copyright © 2022 Muangnapoh et al.Vibrio parah...</td>\n",
              "      <td>Vibrio parahaemolyticus is a Gram-negative, fo...</td>\n",
              "      <td>doi:10.1128/spectrum.00886-22</td>\n",
              "      <td>Mahidol University, Faculty of Dentistry</td>\n",
              "      <td>Bangkok</td>\n",
              "      <td>Thailand</td>\n",
              "      <td>13.824580</td>\n",
              "      <td>100.622446</td>\n",
              "    </tr>\n",
              "    <tr>\n",
              "      <th>2</th>\n",
              "      <td>2</td>\n",
              "      <td>Wannasrichan W., Htoo H.H., Suwansaeng R., Pog...</td>\n",
              "      <td>Phage-resistant Pseudomonas aeruginosa against...</td>\n",
              "      <td>Copyright © 2022 Wannasrichan, Htoo, Suwansaen...</td>\n",
              "      <td>Pseudomonas aeruginosa, a major cause of nosoc...</td>\n",
              "      <td>doi:10.3389/fmicb.2022.1004733</td>\n",
              "      <td>School of Biological Sciences</td>\n",
              "      <td>San Diego</td>\n",
              "      <td>United States</td>\n",
              "      <td>32.717420</td>\n",
              "      <td>-117.162773</td>\n",
              "    </tr>\n",
              "    <tr>\n",
              "      <th>3</th>\n",
              "      <td>3</td>\n",
              "      <td>Treepongkaruna S., Kyaw K., Jiraporn P.</td>\n",
              "      <td>Shareholder litigation rights and ESG controve...</td>\n",
              "      <td>© 2022 The AuthorsLeveraging as a quasi-natura...</td>\n",
              "      <td>Leveraging as a quasi-natural experiment the s...</td>\n",
              "      <td>doi:10.1016/j.irfa.2022.102396</td>\n",
              "      <td>NTNU Business School</td>\n",
              "      <td>Trondheim</td>\n",
              "      <td>Norway</td>\n",
              "      <td>63.430447</td>\n",
              "      <td>10.395212</td>\n",
              "    </tr>\n",
              "    <tr>\n",
              "      <th>4</th>\n",
              "      <td>4</td>\n",
              "      <td>Buatong J., Dvorak V., Thepparat A., Thongkhao...</td>\n",
              "      <td>Phlebotomine Sand Flies in Southern Thailand: ...</td>\n",
              "      <td>© 2022 by the authors. Licensee MDPI, Basel, S...</td>\n",
              "      <td>An entomological survey at rural and cavernico...</td>\n",
              "      <td>doi:10.3390/insects13020197</td>\n",
              "      <td>Chulalongkorn University</td>\n",
              "      <td>Bangkok</td>\n",
              "      <td>Thailand</td>\n",
              "      <td>13.824580</td>\n",
              "      <td>100.622446</td>\n",
              "    </tr>\n",
              "    <tr>\n",
              "      <th>...</th>\n",
              "      <td>...</td>\n",
              "      <td>...</td>\n",
              "      <td>...</td>\n",
              "      <td>...</td>\n",
              "      <td>...</td>\n",
              "      <td>...</td>\n",
              "      <td>...</td>\n",
              "      <td>...</td>\n",
              "      <td>...</td>\n",
              "      <td>...</td>\n",
              "      <td>...</td>\n",
              "    </tr>\n",
              "    <tr>\n",
              "      <th>2032</th>\n",
              "      <td>2032</td>\n",
              "      <td>Amano M., Lohwacharin J., Dubechot A., Takizaw...</td>\n",
              "      <td>Performance of integrated ferrate–polyaluminum...</td>\n",
              "      <td>© 2018 Elsevier LtdFerrate-based technologies ...</td>\n",
              "      <td>Ferrate-based technologies can play versatile ...</td>\n",
              "      <td>doi:10.1016/j.jenvman.2018.02.022</td>\n",
              "      <td>Chulalongkorn University</td>\n",
              "      <td>Bangkok</td>\n",
              "      <td>Thailand</td>\n",
              "      <td>13.824580</td>\n",
              "      <td>100.622446</td>\n",
              "    </tr>\n",
              "    <tr>\n",
              "      <th>2033</th>\n",
              "      <td>2033</td>\n",
              "      <td>Sirunyan A.M., Tumasyan A., Adam W., Asilar E....</td>\n",
              "      <td>Search for natural supersymmetry in events wit...</td>\n",
              "      <td>© 2018, The Author(s).Results are presented fr...</td>\n",
              "      <td>Results are presented from a search for natura...</td>\n",
              "      <td>doi:10.1007/JHEP03(2018)167</td>\n",
              "      <td>Rheinisch-Westfälische Technische Hochschule A...</td>\n",
              "      <td>Aachen</td>\n",
              "      <td>Germany</td>\n",
              "      <td>50.776351</td>\n",
              "      <td>6.083862</td>\n",
              "    </tr>\n",
              "    <tr>\n",
              "      <th>2034</th>\n",
              "      <td>2034</td>\n",
              "      <td>Hemra K., Yamaguchi S., Kobayashi T., Aungkava...</td>\n",
              "      <td>Compressive strength and setting time modifica...</td>\n",
              "      <td>© 2018 Trans Tech Publications, Switzerland.Cl...</td>\n",
              "      <td>Class C fly ash is widely used as a geopolymer...</td>\n",
              "      <td>doi:10.4028/www.scientific.net/KEM.766.157</td>\n",
              "      <td>Chulalongkorn University</td>\n",
              "      <td>Bangkok</td>\n",
              "      <td>Thailand</td>\n",
              "      <td>13.824580</td>\n",
              "      <td>100.622446</td>\n",
              "    </tr>\n",
              "    <tr>\n",
              "      <th>2035</th>\n",
              "      <td>2035</td>\n",
              "      <td>Greeviroj P., Kitrungphaiboon T., Katavetin P....</td>\n",
              "      <td>Cinacalcet for treatment of chronic kidney dis...</td>\n",
              "      <td>© 2018 S. Karger AG, Basel.Background: Cinacal...</td>\n",
              "      <td>Background: Cinacalcet could decrease serum ca...</td>\n",
              "      <td>doi:10.1159/000487546</td>\n",
              "      <td>Chulalongkorn University</td>\n",
              "      <td>Bangkok</td>\n",
              "      <td>Thailand</td>\n",
              "      <td>13.824580</td>\n",
              "      <td>100.622446</td>\n",
              "    </tr>\n",
              "    <tr>\n",
              "      <th>2036</th>\n",
              "      <td>2036</td>\n",
              "      <td>Pansa-Ngat P., Jedsukontorn T., Hunsom M.</td>\n",
              "      <td>Optimal hydrogen production coupled with pollu...</td>\n",
              "      <td>© 2018 by the authors. Licensee MDPI, Basel, S...</td>\n",
              "      <td>This work aimed to produce hydrogen (H2) simul...</td>\n",
              "      <td>doi:10.3390/nano8020096</td>\n",
              "      <td>Chulalongkorn University</td>\n",
              "      <td>Bangkok</td>\n",
              "      <td>Thailand</td>\n",
              "      <td>13.824580</td>\n",
              "      <td>100.622446</td>\n",
              "    </tr>\n",
              "  </tbody>\n",
              "</table>\n",
              "<p>2037 rows × 11 columns</p>\n",
              "</div>\n",
              "    <div class=\"colab-df-buttons\">\n",
              "\n",
              "  <div class=\"colab-df-container\">\n",
              "    <button class=\"colab-df-convert\" onclick=\"convertToInteractive('df-0e176533-e291-4e1e-9525-2464b8f5e67e')\"\n",
              "            title=\"Convert this dataframe to an interactive table.\"\n",
              "            style=\"display:none;\">\n",
              "\n",
              "  <svg xmlns=\"http://www.w3.org/2000/svg\" height=\"24px\" viewBox=\"0 -960 960 960\">\n",
              "    <path d=\"M120-120v-720h720v720H120Zm60-500h600v-160H180v160Zm220 220h160v-160H400v160Zm0 220h160v-160H400v160ZM180-400h160v-160H180v160Zm440 0h160v-160H620v160ZM180-180h160v-160H180v160Zm440 0h160v-160H620v160Z\"/>\n",
              "  </svg>\n",
              "    </button>\n",
              "\n",
              "  <style>\n",
              "    .colab-df-container {\n",
              "      display:flex;\n",
              "      gap: 12px;\n",
              "    }\n",
              "\n",
              "    .colab-df-convert {\n",
              "      background-color: #E8F0FE;\n",
              "      border: none;\n",
              "      border-radius: 50%;\n",
              "      cursor: pointer;\n",
              "      display: none;\n",
              "      fill: #1967D2;\n",
              "      height: 32px;\n",
              "      padding: 0 0 0 0;\n",
              "      width: 32px;\n",
              "    }\n",
              "\n",
              "    .colab-df-convert:hover {\n",
              "      background-color: #E2EBFA;\n",
              "      box-shadow: 0px 1px 2px rgba(60, 64, 67, 0.3), 0px 1px 3px 1px rgba(60, 64, 67, 0.15);\n",
              "      fill: #174EA6;\n",
              "    }\n",
              "\n",
              "    .colab-df-buttons div {\n",
              "      margin-bottom: 4px;\n",
              "    }\n",
              "\n",
              "    [theme=dark] .colab-df-convert {\n",
              "      background-color: #3B4455;\n",
              "      fill: #D2E3FC;\n",
              "    }\n",
              "\n",
              "    [theme=dark] .colab-df-convert:hover {\n",
              "      background-color: #434B5C;\n",
              "      box-shadow: 0px 1px 3px 1px rgba(0, 0, 0, 0.15);\n",
              "      filter: drop-shadow(0px 1px 2px rgba(0, 0, 0, 0.3));\n",
              "      fill: #FFFFFF;\n",
              "    }\n",
              "  </style>\n",
              "\n",
              "    <script>\n",
              "      const buttonEl =\n",
              "        document.querySelector('#df-0e176533-e291-4e1e-9525-2464b8f5e67e button.colab-df-convert');\n",
              "      buttonEl.style.display =\n",
              "        google.colab.kernel.accessAllowed ? 'block' : 'none';\n",
              "\n",
              "      async function convertToInteractive(key) {\n",
              "        const element = document.querySelector('#df-0e176533-e291-4e1e-9525-2464b8f5e67e');\n",
              "        const dataTable =\n",
              "          await google.colab.kernel.invokeFunction('convertToInteractive',\n",
              "                                                    [key], {});\n",
              "        if (!dataTable) return;\n",
              "\n",
              "        const docLinkHtml = 'Like what you see? Visit the ' +\n",
              "          '<a target=\"_blank\" href=https://colab.research.google.com/notebooks/data_table.ipynb>data table notebook</a>'\n",
              "          + ' to learn more about interactive tables.';\n",
              "        element.innerHTML = '';\n",
              "        dataTable['output_type'] = 'display_data';\n",
              "        await google.colab.output.renderOutput(dataTable, element);\n",
              "        const docLink = document.createElement('div');\n",
              "        docLink.innerHTML = docLinkHtml;\n",
              "        element.appendChild(docLink);\n",
              "      }\n",
              "    </script>\n",
              "  </div>\n",
              "\n",
              "\n",
              "<div id=\"df-2adc153e-05e5-4fb5-8473-a8bbdec7aa81\">\n",
              "  <button class=\"colab-df-quickchart\" onclick=\"quickchart('df-2adc153e-05e5-4fb5-8473-a8bbdec7aa81')\"\n",
              "            title=\"Suggest charts\"\n",
              "            style=\"display:none;\">\n",
              "\n",
              "<svg xmlns=\"http://www.w3.org/2000/svg\" height=\"24px\"viewBox=\"0 0 24 24\"\n",
              "     width=\"24px\">\n",
              "    <g>\n",
              "        <path d=\"M19 3H5c-1.1 0-2 .9-2 2v14c0 1.1.9 2 2 2h14c1.1 0 2-.9 2-2V5c0-1.1-.9-2-2-2zM9 17H7v-7h2v7zm4 0h-2V7h2v10zm4 0h-2v-4h2v4z\"/>\n",
              "    </g>\n",
              "</svg>\n",
              "  </button>\n",
              "\n",
              "<style>\n",
              "  .colab-df-quickchart {\n",
              "      --bg-color: #E8F0FE;\n",
              "      --fill-color: #1967D2;\n",
              "      --hover-bg-color: #E2EBFA;\n",
              "      --hover-fill-color: #174EA6;\n",
              "      --disabled-fill-color: #AAA;\n",
              "      --disabled-bg-color: #DDD;\n",
              "  }\n",
              "\n",
              "  [theme=dark] .colab-df-quickchart {\n",
              "      --bg-color: #3B4455;\n",
              "      --fill-color: #D2E3FC;\n",
              "      --hover-bg-color: #434B5C;\n",
              "      --hover-fill-color: #FFFFFF;\n",
              "      --disabled-bg-color: #3B4455;\n",
              "      --disabled-fill-color: #666;\n",
              "  }\n",
              "\n",
              "  .colab-df-quickchart {\n",
              "    background-color: var(--bg-color);\n",
              "    border: none;\n",
              "    border-radius: 50%;\n",
              "    cursor: pointer;\n",
              "    display: none;\n",
              "    fill: var(--fill-color);\n",
              "    height: 32px;\n",
              "    padding: 0;\n",
              "    width: 32px;\n",
              "  }\n",
              "\n",
              "  .colab-df-quickchart:hover {\n",
              "    background-color: var(--hover-bg-color);\n",
              "    box-shadow: 0 1px 2px rgba(60, 64, 67, 0.3), 0 1px 3px 1px rgba(60, 64, 67, 0.15);\n",
              "    fill: var(--button-hover-fill-color);\n",
              "  }\n",
              "\n",
              "  .colab-df-quickchart-complete:disabled,\n",
              "  .colab-df-quickchart-complete:disabled:hover {\n",
              "    background-color: var(--disabled-bg-color);\n",
              "    fill: var(--disabled-fill-color);\n",
              "    box-shadow: none;\n",
              "  }\n",
              "\n",
              "  .colab-df-spinner {\n",
              "    border: 2px solid var(--fill-color);\n",
              "    border-color: transparent;\n",
              "    border-bottom-color: var(--fill-color);\n",
              "    animation:\n",
              "      spin 1s steps(1) infinite;\n",
              "  }\n",
              "\n",
              "  @keyframes spin {\n",
              "    0% {\n",
              "      border-color: transparent;\n",
              "      border-bottom-color: var(--fill-color);\n",
              "      border-left-color: var(--fill-color);\n",
              "    }\n",
              "    20% {\n",
              "      border-color: transparent;\n",
              "      border-left-color: var(--fill-color);\n",
              "      border-top-color: var(--fill-color);\n",
              "    }\n",
              "    30% {\n",
              "      border-color: transparent;\n",
              "      border-left-color: var(--fill-color);\n",
              "      border-top-color: var(--fill-color);\n",
              "      border-right-color: var(--fill-color);\n",
              "    }\n",
              "    40% {\n",
              "      border-color: transparent;\n",
              "      border-right-color: var(--fill-color);\n",
              "      border-top-color: var(--fill-color);\n",
              "    }\n",
              "    60% {\n",
              "      border-color: transparent;\n",
              "      border-right-color: var(--fill-color);\n",
              "    }\n",
              "    80% {\n",
              "      border-color: transparent;\n",
              "      border-right-color: var(--fill-color);\n",
              "      border-bottom-color: var(--fill-color);\n",
              "    }\n",
              "    90% {\n",
              "      border-color: transparent;\n",
              "      border-bottom-color: var(--fill-color);\n",
              "    }\n",
              "  }\n",
              "</style>\n",
              "\n",
              "  <script>\n",
              "    async function quickchart(key) {\n",
              "      const quickchartButtonEl =\n",
              "        document.querySelector('#' + key + ' button');\n",
              "      quickchartButtonEl.disabled = true;  // To prevent multiple clicks.\n",
              "      quickchartButtonEl.classList.add('colab-df-spinner');\n",
              "      try {\n",
              "        const charts = await google.colab.kernel.invokeFunction(\n",
              "            'suggestCharts', [key], {});\n",
              "      } catch (error) {\n",
              "        console.error('Error during call to suggestCharts:', error);\n",
              "      }\n",
              "      quickchartButtonEl.classList.remove('colab-df-spinner');\n",
              "      quickchartButtonEl.classList.add('colab-df-quickchart-complete');\n",
              "    }\n",
              "    (() => {\n",
              "      let quickchartButtonEl =\n",
              "        document.querySelector('#df-2adc153e-05e5-4fb5-8473-a8bbdec7aa81 button');\n",
              "      quickchartButtonEl.style.display =\n",
              "        google.colab.kernel.accessAllowed ? 'block' : 'none';\n",
              "    })();\n",
              "  </script>\n",
              "</div>\n",
              "    </div>\n",
              "  </div>\n"
            ]
          },
          "metadata": {},
          "execution_count": 2
        }
      ]
    },
    {
      "cell_type": "markdown",
      "source": [
        "#Step 4: Convert Pandas Dataframe to Hugging Face Dataset"
      ],
      "metadata": {
        "id": "JHsJE0-1U8uE"
      }
    },
    {
      "cell_type": "code",
      "source": [
        "train_data = train_df[['abstracts', 'title']]"
      ],
      "metadata": {
        "id": "XrOWvqKwBvZg"
      },
      "execution_count": null,
      "outputs": []
    },
    {
      "cell_type": "markdown",
      "source": [
        "#Step 5: Tokenize Text"
      ],
      "metadata": {
        "id": "MWM5laLCW-Jz"
      }
    },
    {
      "cell_type": "code",
      "source": [
        "from transformers import AutoTokenizer, DebertaV2Model, DebertaV2ForSequenceClassification\n",
        "import torch\n",
        "\n",
        "tokenizer = AutoTokenizer.from_pretrained('morenolq/thext-cs-scibert')\n",
        "model = AutoModel.from_pretrained('morenolq/thext-cs-scibert').cuda()"
      ],
      "metadata": {
        "id": "Exw0Pqx7W3Pu"
      },
      "execution_count": null,
      "outputs": []
    },
    {
      "cell_type": "code",
      "source": [
        "from tqdm import tqdm\n",
        "vectors = list()\n",
        "for i in tqdm(train_df.values[:3000]):\n",
        "  text = i[3]\n",
        "  # print(text)\n",
        "  # break\n",
        "  input_ids = tokenizer.encode(text, max_length=512, truncation=True, padding=\"max_length\", return_tensors=\"pt\").cuda()\n",
        "  with torch.no_grad():\n",
        "      embeddings = model(input_ids)\n",
        "      numvec = embeddings[0][0].detach().cpu().numpy()\n",
        "      # vectors.append([i[0], numvec])\n",
        "      vectors.append(numvec)"
      ],
      "metadata": {
        "id": "SfOtwRXc_lmk",
        "colab": {
          "base_uri": "https://localhost:8080/"
        },
        "outputId": "ca6cfaa0-f99f-4117-b2ef-448311982cad"
      },
      "execution_count": null,
      "outputs": [
        {
          "output_type": "stream",
          "name": "stderr",
          "text": [
            "100%|██████████| 2037/2037 [01:20<00:00, 25.35it/s]\n"
          ]
        }
      ]
    },
    {
      "cell_type": "code",
      "source": [
        "import numpy as np\n",
        "from sklearn.metrics.pairwise import cosine_similarity\n",
        "\n",
        "def find_most_similar_vectors(new_vector, all_vectors, top_n=5):\n",
        "    # Reshape all_vectors to 2D\n",
        "    all_vectors_flat = all_vectors.reshape(all_vectors.shape[0], -1)\n",
        "\n",
        "    # Flatten the new_vector\n",
        "    new_vector_flat = new_vector.flatten()\n",
        "\n",
        "    # Calculate cosine similarity between the new vector and all vectors\n",
        "    similarities = cosine_similarity([new_vector_flat], all_vectors_flat)[0]\n",
        "\n",
        "    # Get indices of top N most similar vectors\n",
        "    top_indices = similarities.argsort()[-top_n:][::-1]\n",
        "\n",
        "    # Get the actual vectors corresponding to the top indices\n",
        "    most_similar_vectors = all_vectors[top_indices]\n",
        "\n",
        "    return most_similar_vectors, top_indices, similarities[top_indices]\n",
        "\n",
        "# Load the numpy array from 'test0.npy'\n",
        "d = np.stack(vectors)\n",
        "\n",
        "# Assuming the shape of 'all_vectors' is [10, 512, 768]\n",
        "all_vectors = d\n",
        "\n",
        "# Extract a new vector (you may want to modify this based on your actual use case)\n",
        "new_vector = d[0][::]\n",
        "\n",
        "# Find the 5 most similar vectors\n",
        "most_similar_vectors, top_indices, top_similarities = find_most_similar_vectors(new_vector, all_vectors, top_n=5)\n",
        "\n",
        "# Print the results\n",
        "print(\"Top 5 Most Similar Vectors:\")\n",
        "print(most_similar_vectors)\n",
        "print(\"\\nTop Indices:\", top_indices)\n",
        "print(\"\\nTop Similarities:\", top_similarities)\n"
      ],
      "metadata": {
        "id": "qgKpdeHP2Pu8"
      },
      "execution_count": null,
      "outputs": []
    },
    {
      "cell_type": "code",
      "source": [
        "print(len(most_similar_vectors))"
      ],
      "metadata": {
        "colab": {
          "base_uri": "https://localhost:8080/"
        },
        "id": "C6JZfQgl4e01",
        "outputId": "1624770e-48fe-4481-9e87-65080efaff3f"
      },
      "execution_count": null,
      "outputs": [
        {
          "output_type": "stream",
          "name": "stdout",
          "text": [
            "5\n"
          ]
        }
      ]
    },
    {
      "cell_type": "code",
      "source": [
        "import numpy as np\n",
        "from sklearn.manifold import TSNE\n",
        "import matplotlib.pyplot as plt\n"
      ],
      "metadata": {
        "id": "ZNrgBQ9C4-RV"
      },
      "execution_count": null,
      "outputs": []
    },
    {
      "cell_type": "code",
      "source": [
        "numpy_array1 = [1.0000113, 0.7729803, 0.77262163, 0.77089155, 0.7703329]\n",
        "numpy_array2 = [0, 933, 1931, 491, 744]"
      ],
      "metadata": {
        "id": "fFtPZb5GALzN"
      },
      "execution_count": null,
      "outputs": []
    },
    {
      "cell_type": "code",
      "source": [
        "import numpy as np\n",
        "import networkx as nx\n",
        "import matplotlib.pyplot as plt\n",
        "\n",
        "# Calculate distances as 1/x\n",
        "distances = 1 / numpy_array1\n",
        "\n",
        "# Create a graph\n",
        "G = nx.Graph()\n",
        "\n",
        "# Add nodes to the graph with labels from numpy_array2\n",
        "for label in numpy_array2:\n",
        "    G.add_node(label)\n",
        "\n",
        "# Add edges with weights based on the distances\n",
        "for i, node_label in enumerate(numpy_array2):\n",
        "    G.add_edge(0, node_label, weight=distances[i])\n",
        "\n",
        "# Define positions for the nodes (circular layout for simplicity)\n",
        "pos = nx.circular_layout(G)\n",
        "\n",
        "# Extract edge weights for plotting\n",
        "edge_weights = [G[u][v]['weight'] for u, v in G.edges]\n",
        "\n",
        "# Draw the graph\n",
        "nx.draw(G, pos, with_labels=True, font_weight='bold', node_size=700, node_color='skyblue', font_size=8, width=edge_weights, edge_color='gray', cmap=plt.cm.Blues)\n",
        "\n",
        "# Show the plot\n",
        "plt.show()\n"
      ],
      "metadata": {
        "colab": {
          "base_uri": "https://localhost:8080/",
          "height": 516
        },
        "id": "TQdIHFvJ6kjH",
        "outputId": "fa9a90f7-644a-498c-e31f-47e94971d771"
      },
      "execution_count": null,
      "outputs": [
        {
          "output_type": "display_data",
          "data": {
            "text/plain": [
              "<Figure size 640x480 with 1 Axes>"
            ],
            "image/png": "[encoded data removed]"
          },
          "metadata": {}
        }
      ]
    },
    {
      "cell_type": "code",
      "source": [
        "train_df.iloc[1506]['abstracts']"
      ],
      "metadata": {
        "colab": {
          "base_uri": "https://localhost:8080/",
          "height": 268
        },
        "id": "AdliHfxgAhHJ",
        "outputId": "3973cdc8-b72e-43f9-c369-ca996a47da64"
      },
      "execution_count": null,
      "outputs": [
        {
          "output_type": "execute_result",
          "data": {
            "text/plain": [
              "'© Copyright 2022, Mary Ann Liebert, Inc., publishers 2022.Data are lacking or outdated on burden of HIV, viral hepatitis infection, and sexually transmitted infections such as syphilis among people deprived of liberty in the Asia-Pacific region. We aimed to evaluate the proportion of viral hepatitis B (HBV), hepatitis C (HCV), HIV, and syphilis infections, and factors associated with HCV, HBV, and HIV infection in a central male prison. A cross-sectional study was performed among 1,028 people deprived of liberty from a central male prison in Bangkok, Thailand. People deprived of liberty were screened for HIV, HBV, HCV, and syphilis infections during 2018-2019. HBV and HCV were defined as positive hepatitis B surface antigen and positive anti-HCV antibody, respectively. Proportions (95% confidence interval [CI]) of infections were calculated based on the binomial distribution. HBV proportion was reported for different age groups. Risk factors associated with HCV infections were evaluated by logistic regression model. The median age was 38 (interquartile range, 32-50) years, and 6.9% reported use of injection drugs. The proportion of HIV, HBV, anti-HCV, HCV RNA, and syphilis was 2.9% (95% CI, 1.9-4.1), 6.4% (5-8.1), 5.9% (4.6-7.6), 4.2% (3-5.6), and 4.8% (3.5-6.3), respectively. One (0.1%), 7 (0.6%), and 2 (3%) were co-infected with HIV/HBV, HIV/HCV, and HDV/HBV, respectively. HBV proportion differed across age groups: 3.7% in <30 years, 7% in 31-40 years, 9.7% in 41-50 years, and 5.5% in >50 years. Factors associated with HCV infection were older age, lower education level, previous incarceration, and injection drug use. In multivariable models, older age was associated with HBV infection, and men having sex with men was associated with HIV infection. The proportion of blood-borne infections was higher among males than among the general population. HBV vaccination, routine HCV screening, and treatment with pan-genotypic direct-acting antivirals with minimal specialist requirements should be implemented in Thai prisons.'"
            ],
            "application/vnd.google.colaboratory.intrinsic+json": {
              "type": "string"
            }
          },
          "metadata": {},
          "execution_count": 4
        }
      ]
    },
    {
      "cell_type": "code",
      "source": [
        "train_df[]"
      ],
      "metadata": {
        "id": "Wc8DLfa7CcZd"
      },
      "execution_count": null,
      "outputs": []
    }
  ]
}