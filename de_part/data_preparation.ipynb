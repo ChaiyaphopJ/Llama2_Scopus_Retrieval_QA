{
 "cells": [
  {
   "cell_type": "markdown",
   "metadata": {},
   "source": [
    "# PySpark"
   ]
  },
  {
   "cell_type": "code",
   "execution_count": 20,
   "metadata": {},
   "outputs": [],
   "source": [
    "from pyspark.sql import SparkSession\n",
    "from pyspark.sql import functions as F\n",
    "import findspark\n",
    "import os\n",
    "import pandas as pd\n",
    "\n",
    "\n",
    "os.environ[\"JAVA_HOME\"] = \"/Users/t1ct1ch20284633/Downloads/jdk-21.0.1.jdk/Contents/Home\"\n",
    "os.environ[\"SPARK_HOME\"] = \"/Users/t1ct1ch20284633/Library/Mobile Documents/com~apple~CloudDocs/CU/Courses/2110531_DS&DE_Tools/Final_Project/spark\"\n",
    "\n",
    "findspark.init()\n",
    "spark_url = 'local'\n",
    "\n",
    "spark = SparkSession.builder\\\n",
    "        .master(spark_url)\\\n",
    "        .appName('Spark SQL')\\\n",
    "        .getOrCreate()\n",
    "\n",
    "# file_path = 'scopus_scraping/'\n",
    "# file_name = 'data_2017'\n",
    "file_path = './'\n",
    "file_name = 'data_2018_2023'\n",
    "\n",
    "df = spark.read.csv(f'{file_path}{file_name}.csv', sep='|', header = True)\n",
    "df.show()\n",
    "\n",
    "df = df.filter(\n",
    "        (F.col('authors').isNotNull())\n",
    "        & (F.col('title').isNotNull())\n",
    "        & (F.col('abstracts').isNotNull())\n",
    "        & (F.col('description').isNotNull())\n",
    "        # & (F.col('doi').isNotNull())\n",
    "        & (F.col('affiliation').isNotNull())\n",
    "        & (F.col('city').isNotNull())\n",
    "        & (F.col('country').isNotNull())\n",
    "        & (F.col('latitude').isNotNull())\n",
    "        & (F.col('longitude').isNotNull())\n",
    ")\n",
    "\n",
    "pd_df = df.toPandas()\n",
    "pd_df.to_csv(f'cleaned_{file_name}.csv', sep='|', index=False)"
   ]
  },
  {
   "cell_type": "markdown",
   "metadata": {},
   "source": [
    "# Pandas"
   ]
  },
  {
   "cell_type": "code",
   "execution_count": null,
   "metadata": {},
   "outputs": [],
   "source": [
    "# file_path = 'scopus_scraping/'\n",
    "# file_name = 'data_2017'\n",
    "file_path = './'\n",
    "file_name = 'data_2018_2023'\n",
    "\n",
    "df = pd.read_csv(f'{file_path}{file_name}.csv', sep='|')\n",
    "df.reset_index(drop=True)\n",
    "\n",
    "df.dropna(subset=[\n",
    "    'authors',\n",
    "    'title',\n",
    "    'abstracts',\n",
    "    'description',\n",
    "    'doi',\n",
    "    'affiliation',\n",
    "    'city',\n",
    "    'country',\n",
    "    'latitude',\n",
    "    'longitude'\n",
    "], inplace=True)\n",
    "print(df.isnull().sum())\n",
    "display(df)\n",
    "\n",
    "df.to_csv(f'cleaned_{file_name}.csv', sep='|', index=False)"
   ]
  },
  {
   "cell_type": "code",
   "execution_count": 42,
   "metadata": {},
   "outputs": [],
   "source": [
    "df = pd.read_csv('data_2018_2023.csv', sep='|')\n",
    "col = df.columns"
   ]
  },
  {
   "cell_type": "code",
   "execution_count": 44,
   "metadata": {},
   "outputs": [
    {
     "name": "stdout",
     "output_type": "stream",
     "text": [
      "authors\n",
      "title\n",
      "abstracts\n",
      "description\n",
      "doi\n",
      "affiliation\n",
      "city\n",
      "country\n",
      "latitude\n",
      "longitude\n"
     ]
    }
   ],
   "source": [
    "for c in col:\n",
    "    print(c)"
   ]
  },
  {
   "cell_type": "code",
   "execution_count": 46,
   "metadata": {},
   "outputs": [
    {
     "data": {
      "text/html": [
       "<div>\n",
       "<style scoped>\n",
       "    .dataframe tbody tr th:only-of-type {\n",
       "        vertical-align: middle;\n",
       "    }\n",
       "\n",
       "    .dataframe tbody tr th {\n",
       "        vertical-align: top;\n",
       "    }\n",
       "\n",
       "    .dataframe thead th {\n",
       "        text-align: right;\n",
       "    }\n",
       "</style>\n",
       "<table border=\"1\" class=\"dataframe\">\n",
       "  <thead>\n",
       "    <tr style=\"text-align: right;\">\n",
       "      <th></th>\n",
       "      <th>authors</th>\n",
       "    </tr>\n",
       "    <tr>\n",
       "      <th>country</th>\n",
       "      <th></th>\n",
       "    </tr>\n",
       "  </thead>\n",
       "  <tbody>\n",
       "    <tr>\n",
       "      <th>Algeria</th>\n",
       "      <td>6</td>\n",
       "    </tr>\n",
       "    <tr>\n",
       "      <th>Argentina</th>\n",
       "      <td>4</td>\n",
       "    </tr>\n",
       "    <tr>\n",
       "      <th>Armenia</th>\n",
       "      <td>2</td>\n",
       "    </tr>\n",
       "    <tr>\n",
       "      <th>Australia</th>\n",
       "      <td>166</td>\n",
       "    </tr>\n",
       "    <tr>\n",
       "      <th>Austria</th>\n",
       "      <td>16</td>\n",
       "    </tr>\n",
       "    <tr>\n",
       "      <th>...</th>\n",
       "      <td>...</td>\n",
       "    </tr>\n",
       "    <tr>\n",
       "      <th>United States</th>\n",
       "      <td>720</td>\n",
       "    </tr>\n",
       "    <tr>\n",
       "      <th>Uruguay</th>\n",
       "      <td>1</td>\n",
       "    </tr>\n",
       "    <tr>\n",
       "      <th>Viet Nam</th>\n",
       "      <td>186</td>\n",
       "    </tr>\n",
       "    <tr>\n",
       "      <th>Zambia</th>\n",
       "      <td>1</td>\n",
       "    </tr>\n",
       "    <tr>\n",
       "      <th>Zimbabwe</th>\n",
       "      <td>1</td>\n",
       "    </tr>\n",
       "  </tbody>\n",
       "</table>\n",
       "<p>104 rows × 1 columns</p>\n",
       "</div>"
      ],
      "text/plain": [
       "               authors\n",
       "country               \n",
       "Algeria              6\n",
       "Argentina            4\n",
       "Armenia              2\n",
       "Australia          166\n",
       "Austria             16\n",
       "...                ...\n",
       "United States      720\n",
       "Uruguay              1\n",
       "Viet Nam           186\n",
       "Zambia               1\n",
       "Zimbabwe             1\n",
       "\n",
       "[104 rows x 1 columns]"
      ]
     },
     "execution_count": 46,
     "metadata": {},
     "output_type": "execute_result"
    }
   ],
   "source": [
    "# df['country'].groupby()\n",
    "n_country = df.groupby('country').agg({'authors': 'count'})\n",
    "n_country"
   ]
  }
 ],
 "metadata": {
  "kernelspec": {
   "display_name": "Python 3",
   "language": "python",
   "name": "python3"
  },
  "language_info": {
   "codemirror_mode": {
    "name": "ipython",
    "version": 3
   },
   "file_extension": ".py",
   "mimetype": "text/x-python",
   "name": "python",
   "nbconvert_exporter": "python",
   "pygments_lexer": "ipython3",
   "version": "3.9.6"
  }
 },
 "nbformat": 4,
 "nbformat_minor": 2
}
